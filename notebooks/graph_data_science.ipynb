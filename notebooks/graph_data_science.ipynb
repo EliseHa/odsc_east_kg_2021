{
 "cells": [
  {
   "cell_type": "code",
   "execution_count": 1,
   "id": "express-stockholm",
   "metadata": {},
   "outputs": [
    {
     "name": "stdout",
     "output_type": "stream",
     "text": [
      "3.0.3\n"
     ]
    }
   ],
   "source": [
    "import json\n",
    "import re\n",
    "import urllib\n",
    "from pprint import pprint\n",
    "import time\n",
    "from tqdm import tqdm\n",
    "\n",
    "from py2neo import Node, Graph, Relationship, NodeMatcher\n",
    "from py2neo.bulk import merge_nodes\n",
    "\n",
    "import numpy as np\n",
    "import pandas as pd\n",
    "import wikipedia\n",
    "from sklearn.metrics.pairwise import cosine_similarity\n",
    "\n",
    "import spacy\n",
    "from spacy.lang.en.stop_words import STOP_WORDS\n",
    "from spacy.matcher import Matcher\n",
    "from spacy.tokens import Doc, Span, Token\n",
    "\n",
    "print(spacy.__version__)"
   ]
  },
  {
   "cell_type": "code",
   "execution_count": 2,
   "id": "guided-species",
   "metadata": {},
   "outputs": [],
   "source": [
    "graph = Graph(\"bolt://neo4j:7687\", name=\"neo4j\", password=\"1234\")\n",
    "nodes_matcher = NodeMatcher(graph)"
   ]
  },
  {
   "cell_type": "code",
   "execution_count": 7,
   "id": "great-australia",
   "metadata": {},
   "outputs": [
    {
     "data": {
      "text/html": [
       "<div>\n",
       "<style scoped>\n",
       "    .dataframe tbody tr th:only-of-type {\n",
       "        vertical-align: middle;\n",
       "    }\n",
       "\n",
       "    .dataframe tbody tr th {\n",
       "        vertical-align: top;\n",
       "    }\n",
       "\n",
       "    .dataframe thead th {\n",
       "        text-align: right;\n",
       "    }\n",
       "</style>\n",
       "<table border=\"1\" class=\"dataframe\">\n",
       "  <thead>\n",
       "    <tr style=\"text-align: right;\">\n",
       "      <th></th>\n",
       "      <th>n.name</th>\n",
       "      <th>n.description</th>\n",
       "      <th>n.node_labels</th>\n",
       "      <th>n.url</th>\n",
       "      <th>n.word_vec</th>\n",
       "      <th>n.fastrp_100</th>\n",
       "    </tr>\n",
       "  </thead>\n",
       "  <tbody>\n",
       "    <tr>\n",
       "      <th>0</th>\n",
       "      <td>oh bah mə</td>\n",
       "      <td></td>\n",
       "      <td>[Subject]</td>\n",
       "      <td></td>\n",
       "      <td>[0.0, 0.0, 0.0, 0.0, 0.0, 0.0, 0.0, 0.0, 0.0, ...</td>\n",
       "      <td>[0.10572587698698044, 0.004473589360713959, 0....</td>\n",
       "    </tr>\n",
       "    <tr>\n",
       "      <th>1</th>\n",
       "      <td>american politician</td>\n",
       "      <td></td>\n",
       "      <td>[Thing]</td>\n",
       "      <td></td>\n",
       "      <td>[0.0, 0.0, 0.0, 0.0, 0.0, 0.0, 0.0, 0.0, 0.0, ...</td>\n",
       "      <td>[0.0, 0.0, 0.0, 0.0, 0.0, 0.0, 0.0, 0.0, 0.0, ...</td>\n",
       "    </tr>\n",
       "    <tr>\n",
       "      <th>2</th>\n",
       "      <td>44th president</td>\n",
       "      <td>[]</td>\n",
       "      <td>[]</td>\n",
       "      <td>[]</td>\n",
       "      <td>[0.0, 0.0, 0.0, 0.0, 0.0, 0.0, 0.0, 0.0, 0.0, ...</td>\n",
       "      <td>[0.0, 0.0, 0.0, 0.0, 0.0, 0.0, 0.0, 0.0, 0.0, ...</td>\n",
       "    </tr>\n",
       "    <tr>\n",
       "      <th>3</th>\n",
       "      <td>united states</td>\n",
       "      <td>The United States of America, commonly known a...</td>\n",
       "      <td>[AdministrativeArea, Country, Thing, Place]</td>\n",
       "      <td>https://en.wikipedia.org/wiki/United_States</td>\n",
       "      <td>[-0.06977874785661697, 0.21644160151481628, -0...</td>\n",
       "      <td>[-0.11826247721910477, -0.24348512291908264, 0...</td>\n",
       "    </tr>\n",
       "    <tr>\n",
       "      <th>4</th>\n",
       "      <td>democratic party</td>\n",
       "      <td>The Democratic Party is one of the two major c...</td>\n",
       "      <td>[Thing, Organization]</td>\n",
       "      <td>https://en.wikipedia.org/wiki/Democratic_Party...</td>\n",
       "      <td>[0.03246232122182846, 0.12774689495563507, -0....</td>\n",
       "      <td>[-0.11826247721910477, -0.24348512291908264, 0...</td>\n",
       "    </tr>\n",
       "  </tbody>\n",
       "</table>\n",
       "</div>"
      ],
      "text/plain": [
       "                n.name                                      n.description  \\\n",
       "0            oh bah mə                                                      \n",
       "1  american politician                                                      \n",
       "2       44th president                                                 []   \n",
       "3        united states  The United States of America, commonly known a...   \n",
       "4     democratic party  The Democratic Party is one of the two major c...   \n",
       "\n",
       "                                 n.node_labels  \\\n",
       "0                                    [Subject]   \n",
       "1                                      [Thing]   \n",
       "2                                           []   \n",
       "3  [AdministrativeArea, Country, Thing, Place]   \n",
       "4                        [Thing, Organization]   \n",
       "\n",
       "                                               n.url  \\\n",
       "0                                                      \n",
       "1                                                      \n",
       "2                                                 []   \n",
       "3        https://en.wikipedia.org/wiki/United_States   \n",
       "4  https://en.wikipedia.org/wiki/Democratic_Party...   \n",
       "\n",
       "                                          n.word_vec  \\\n",
       "0  [0.0, 0.0, 0.0, 0.0, 0.0, 0.0, 0.0, 0.0, 0.0, ...   \n",
       "1  [0.0, 0.0, 0.0, 0.0, 0.0, 0.0, 0.0, 0.0, 0.0, ...   \n",
       "2  [0.0, 0.0, 0.0, 0.0, 0.0, 0.0, 0.0, 0.0, 0.0, ...   \n",
       "3  [-0.06977874785661697, 0.21644160151481628, -0...   \n",
       "4  [0.03246232122182846, 0.12774689495563507, -0....   \n",
       "\n",
       "                                        n.fastrp_100  \n",
       "0  [0.10572587698698044, 0.004473589360713959, 0....  \n",
       "1  [0.0, 0.0, 0.0, 0.0, 0.0, 0.0, 0.0, 0.0, 0.0, ...  \n",
       "2  [0.0, 0.0, 0.0, 0.0, 0.0, 0.0, 0.0, 0.0, 0.0, ...  \n",
       "3  [-0.11826247721910477, -0.24348512291908264, 0...  \n",
       "4  [-0.11826247721910477, -0.24348512291908264, 0...  "
      ]
     },
     "execution_count": 7,
     "metadata": {},
     "output_type": "execute_result"
    }
   ],
   "source": [
    "df = graph.run('MATCH (n:Node) RETURN n.name, n.description, n.node_labels, n.url, n.word_vec, n.fastrp_100').to_data_frame()\n",
    "df.head()"
   ]
  },
  {
   "cell_type": "code",
   "execution_count": null,
   "id": "opening-calvin",
   "metadata": {},
   "outputs": [],
   "source": []
  },
  {
   "cell_type": "code",
   "execution_count": null,
   "id": "configured-webcam",
   "metadata": {},
   "outputs": [],
   "source": []
  }
 ],
 "metadata": {
  "kernelspec": {
   "display_name": "Python 3",
   "language": "python",
   "name": "python3"
  },
  "language_info": {
   "codemirror_mode": {
    "name": "ipython",
    "version": 3
   },
   "file_extension": ".py",
   "mimetype": "text/x-python",
   "name": "python",
   "nbconvert_exporter": "python",
   "pygments_lexer": "ipython3",
   "version": "3.8.8"
  }
 },
 "nbformat": 4,
 "nbformat_minor": 5
}
