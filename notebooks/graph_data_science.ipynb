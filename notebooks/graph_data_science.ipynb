{
 "cells": [
  {
   "cell_type": "code",
   "execution_count": 1,
   "id": "distinguished-association",
   "metadata": {},
   "outputs": [
    {
     "name": "stdout",
     "output_type": "stream",
     "text": [
      "3.0.3\n"
     ]
    }
   ],
   "source": [
    "import json\n",
    "import re\n",
    "import urllib\n",
    "from pprint import pprint\n",
    "import time\n",
    "from tqdm import tqdm\n",
    "\n",
    "from py2neo import Node, Graph, Relationship, NodeMatcher\n",
    "from py2neo.bulk import merge_nodes\n",
    "\n",
    "import numpy as np\n",
    "import pandas as pd\n",
    "import wikipedia\n",
    "from sklearn.metrics.pairwise import cosine_similarity\n",
    "\n",
    "import spacy\n",
    "from spacy.lang.en.stop_words import STOP_WORDS\n",
    "from spacy.matcher import Matcher\n",
    "from spacy.tokens import Doc, Span, Token\n",
    "\n",
    "print(spacy.__version__)"
   ]
  },
  {
   "cell_type": "code",
   "execution_count": 2,
   "id": "superb-kitchen",
   "metadata": {},
   "outputs": [],
   "source": [
    "graph = Graph(\"bolt://neo4j:7687\", name=\"neo4j\", password=\"1234\")\n",
    "nodes_matcher = NodeMatcher(graph)"
   ]
  },
  {
   "cell_type": "code",
   "execution_count": 5,
   "id": "coordinate-chrome",
   "metadata": {},
   "outputs": [
    {
     "data": {
      "text/html": [
       "<div>\n",
       "<style scoped>\n",
       "    .dataframe tbody tr th:only-of-type {\n",
       "        vertical-align: middle;\n",
       "    }\n",
       "\n",
       "    .dataframe tbody tr th {\n",
       "        vertical-align: top;\n",
       "    }\n",
       "\n",
       "    .dataframe thead th {\n",
       "        text-align: right;\n",
       "    }\n",
       "</style>\n",
       "<table border=\"1\" class=\"dataframe\">\n",
       "  <thead>\n",
       "    <tr style=\"text-align: right;\">\n",
       "      <th></th>\n",
       "      <th>name</th>\n",
       "      <th>description</th>\n",
       "      <th>node_labels</th>\n",
       "      <th>url</th>\n",
       "      <th>word_vec</th>\n",
       "    </tr>\n",
       "  </thead>\n",
       "  <tbody>\n",
       "    <tr>\n",
       "      <th>0</th>\n",
       "      <td>house</td>\n",
       "      <td>A house is a single-unit residential building,...</td>\n",
       "      <td>[Thing]</td>\n",
       "      <td>https://en.wikipedia.org/wiki/House</td>\n",
       "      <td>[0.04616522789001465, 0.3092450797557831, -0.0...</td>\n",
       "    </tr>\n",
       "    <tr>\n",
       "      <th>1</th>\n",
       "      <td>representatives</td>\n",
       "      <td>The speaker of a deliberative assembly, especi...</td>\n",
       "      <td>[Thing]</td>\n",
       "      <td>https://en.wikipedia.org/wiki/Speaker_(politics)</td>\n",
       "      <td>[-0.014807065017521381, 0.2798156142234802, -0...</td>\n",
       "    </tr>\n",
       "    <tr>\n",
       "      <th>2</th>\n",
       "      <td>lower chamber</td>\n",
       "      <td>[]</td>\n",
       "      <td>[]</td>\n",
       "      <td>[]</td>\n",
       "      <td>[0.0, 0.0, 0.0, 0.0, 0.0, 0.0, 0.0, 0.0, 0.0, ...</td>\n",
       "    </tr>\n",
       "    <tr>\n",
       "      <th>3</th>\n",
       "      <td>national bicameral legislature</td>\n",
       "      <td>Bicameralism is the practice of having a legis...</td>\n",
       "      <td>[Thing]</td>\n",
       "      <td>https://en.wikipedia.org/wiki/Bicameralism</td>\n",
       "      <td>[0.011496711522340775, 0.1557886153459549, -0....</td>\n",
       "    </tr>\n",
       "    <tr>\n",
       "      <th>4</th>\n",
       "      <td>article</td>\n",
       "      <td>An article is any member of a class of dedicat...</td>\n",
       "      <td>[Thing]</td>\n",
       "      <td>https://en.wikipedia.org/wiki/Article_(grammar)</td>\n",
       "      <td>[-0.022769873961806297, 0.18098898231983185, -...</td>\n",
       "    </tr>\n",
       "  </tbody>\n",
       "</table>\n",
       "</div>"
      ],
      "text/plain": [
       "                             name  \\\n",
       "0                           house   \n",
       "1                 representatives   \n",
       "2                   lower chamber   \n",
       "3  national bicameral legislature   \n",
       "4                         article   \n",
       "\n",
       "                                         description node_labels  \\\n",
       "0  A house is a single-unit residential building,...     [Thing]   \n",
       "1  The speaker of a deliberative assembly, especi...     [Thing]   \n",
       "2                                                 []          []   \n",
       "3  Bicameralism is the practice of having a legis...     [Thing]   \n",
       "4  An article is any member of a class of dedicat...     [Thing]   \n",
       "\n",
       "                                                url  \\\n",
       "0               https://en.wikipedia.org/wiki/House   \n",
       "1  https://en.wikipedia.org/wiki/Speaker_(politics)   \n",
       "2                                                []   \n",
       "3        https://en.wikipedia.org/wiki/Bicameralism   \n",
       "4   https://en.wikipedia.org/wiki/Article_(grammar)   \n",
       "\n",
       "                                            word_vec  \n",
       "0  [0.04616522789001465, 0.3092450797557831, -0.0...  \n",
       "1  [-0.014807065017521381, 0.2798156142234802, -0...  \n",
       "2  [0.0, 0.0, 0.0, 0.0, 0.0, 0.0, 0.0, 0.0, 0.0, ...  \n",
       "3  [0.011496711522340775, 0.1557886153459549, -0....  \n",
       "4  [-0.022769873961806297, 0.18098898231983185, -...  "
      ]
     },
     "execution_count": 5,
     "metadata": {},
     "output_type": "execute_result"
    }
   ],
   "source": [
    "df = graph.run('MATCH (n:Node) RETURN n.name, n.description, n.node_labels, n.url, n.word_vec').to_data_frame()\n",
    "df.columns = ['name', 'description', 'node_labels', 'url', 'word_vec']\n",
    "df.head()"
   ]
  },
  {
   "cell_type": "markdown",
   "id": "cardiovascular-federal",
   "metadata": {},
   "source": [
    "# Let's try some more entity disambiguation\n",
    "\n",
    "Recall in the previous notebook that we looked at the cosine similarity of word vectors.  Instead, now let's look at the overlap of the relationships between our starting node, 'oh bah mə', and  'barack hussein obama ii'.  We might expect if there was strong similarity that we would see a lot of relationship overlap.  \n"
   ]
  },
  {
   "cell_type": "code",
   "execution_count": 41,
   "id": "baking-limit",
   "metadata": {},
   "outputs": [
    {
     "name": "stdout",
     "output_type": "stream",
     "text": [
      "Total number of connected nodes:  5\n"
     ]
    },
    {
     "data": {
      "text/plain": [
       "['american politician',\n",
       " '44th president',\n",
       " 'united states',\n",
       " 'democratic party',\n",
       " 'african american president']"
      ]
     },
     "execution_count": 41,
     "metadata": {},
     "output_type": "execute_result"
    }
   ],
   "source": [
    "bho_ls = []\n",
    "bho = graph.run('MATCH (n:Node {name: \"barack hussein obama ii\"})--(m) RETURN DISTINCT m.name')\n",
    "for record in bho:\n",
    "    bho_ls.append(record[0])\n",
    "print('Total number of connected nodes: ', len(bho_ls))\n",
    "bho_ls"
   ]
  },
  {
   "cell_type": "code",
   "execution_count": 38,
   "id": "controversial-stick",
   "metadata": {},
   "outputs": [
    {
     "data": {
      "text/plain": [
       "['american politician',\n",
       " '44th president',\n",
       " 'united states',\n",
       " 'democratic party',\n",
       " 'african american president',\n",
       " 'illinois',\n",
       " 'u.s senator',\n",
       " 'great recession',\n",
       " 'economic stimuli',\n",
       " 'honolulu',\n",
       " 'illinois state senator',\n",
       " 'columbia university',\n",
       " 'community organizer',\n",
       " 'chicago',\n",
       " 'harvard law school',\n",
       " 'black person',\n",
       " 'harvard law review',\n",
       " 'civil rights attorney',\n",
       " 'president',\n",
       " 'university',\n",
       " 'constitutional law',\n",
       " 'law school',\n",
       " 'elective politics',\n",
       " '13th district',\n",
       " 'u.s senate',\n",
       " 'illinois senate',\n",
       " 'national attention',\n",
       " 'march senate primary win',\n",
       " 'ukraine',\n",
       " 'u.s relations',\n",
       " '2016 u.s elections',\n",
       " 'iran',\n",
       " 'campaign',\n",
       " 'jcpoa nuclear deal',\n",
       " 'sanctions',\n",
       " 'interference',\n",
       " 'senate',\n",
       " 'global climate change',\n",
       " 'invasion',\n",
       " 'cuba',\n",
       " 'justices',\n",
       " 'russia',\n",
       " 'close primary campaign',\n",
       " 'hillary clinton',\n",
       " '  general election',\n",
       " 'republican nominee john mccain',\n",
       " 'running mate',\n",
       " '2009 nobel peace prize laureate',\n",
       " 'january',\n",
       " 'lengthy debate',\n",
       " 'landmark bills',\n",
       " 'national debt limit',\n",
       " 'law',\n",
       " 'years',\n",
       " 'budget control',\n",
       " 'office',\n",
       " 'public health insurance option',\n",
       " 'affordable care act',\n",
       " 'aca',\n",
       " 'repeal act',\n",
       " 'nuclear weapons',\n",
       " 'afghanistan',\n",
       " 'u.s troop levels',\n",
       " 'foreign policy',\n",
       " 'iraq',\n",
       " 'u.s combat operations',\n",
       " 'libya',\n",
       " '2015 paris agreement',\n",
       " 'gains',\n",
       " 'deaths',\n",
       " 'military intervention',\n",
       " 'global warming',\n",
       " 'military operations',\n",
       " 'process',\n",
       " 'implementation',\n",
       " '2011 withdrawal',\n",
       " 'muammar gaddafi',\n",
       " 'discussions',\n",
       " 'osama bin laden',\n",
       " 'isil',\n",
       " 'iraq war',\n",
       " 'military involvement',\n",
       " 'overthrow',\n",
       " 'un security council resolution',\n",
       " 'election',\n",
       " 'republican opponent mitt romney',\n",
       " 'second term',\n",
       " 'term',\n",
       " 'sex marriage bans',\n",
       " 'briefs',\n",
       " 'lgbt americans',\n",
       " 'supreme court',\n",
       " 'inclusion',\n",
       " 'windsor',\n",
       " 'hodges',\n",
       " 'obergefell',\n",
       " 'gun control',\n",
       " 'response',\n",
       " 'sandy hook elementary school shooting',\n",
       " 'support',\n",
       " 'ban',\n",
       " 'wide ranging executive actions',\n",
       " 'assault weapons',\n",
       " 'mitch mcconnell',\n",
       " 'partisan obstruction',\n",
       " 'republican led senate',\n",
       " 'obama term',\n",
       " 'washington',\n",
       " 'historians',\n",
       " 'american presidents',\n",
       " 'presidency',\n",
       " 'upper tier',\n",
       " 'hearings',\n",
       " 'nomination']"
      ]
     },
     "execution_count": 38,
     "metadata": {},
     "output_type": "execute_result"
    }
   ],
   "source": [
    "obm_ls = []\n",
    "obm = graph.run('MATCH (n:Node {name: \"oh bah mə\"})--(m) RETURN DISTINCT m.name')\n",
    "for record in obm:\n",
    "    obm_ls.append(record[0])\n",
    "obm_ls"
   ]
  },
  {
   "cell_type": "code",
   "execution_count": 40,
   "id": "affiliated-requirement",
   "metadata": {},
   "outputs": [
    {
     "name": "stdout",
     "output_type": "stream",
     "text": [
      "{'democratic party', 'african american president', 'united states', '44th president', 'american politician'}\n"
     ]
    }
   ],
   "source": [
    "bho_set = set(bho_ls)\n",
    "obm_set = set(obm_ls)\n",
    "if (bho_set & obm_set):\n",
    "    print(bho_set & obm_set)"
   ]
  },
  {
   "cell_type": "markdown",
   "id": "preceding-works",
   "metadata": {},
   "source": [
    "# Observation\n",
    "\n",
    "So we can see that 100% of the nodes connected to 'barack hussein obama ii' are in the connected node list of 'oh bah mə'.  This is a strong indicator that the former might be the same entity as the later."
   ]
  },
  {
   "cell_type": "code",
   "execution_count": null,
   "id": "continental-marks",
   "metadata": {},
   "outputs": [],
   "source": []
  }
 ],
 "metadata": {
  "kernelspec": {
   "display_name": "Python 3",
   "language": "python",
   "name": "python3"
  },
  "language_info": {
   "codemirror_mode": {
    "name": "ipython",
    "version": 3
   },
   "file_extension": ".py",
   "mimetype": "text/x-python",
   "name": "python",
   "nbconvert_exporter": "python",
   "pygments_lexer": "ipython3",
   "version": "3.8.8"
  }
 },
 "nbformat": 4,
 "nbformat_minor": 5
}
